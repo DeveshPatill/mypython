{
 "cells": [
  {
   "cell_type": "code",
   "execution_count": 2,
   "id": "1dd0e11e-c781-4e73-a6f3-919cd0c844d0",
   "metadata": {},
   "outputs": [
    {
     "name": "stdin",
     "output_type": "stream",
     "text": [
      "enter a fix size of list u want:  4\n",
      "enter dishes kheer\n",
      "enter dishes dosa\n",
      "enter dishes jalevilassi\n",
      "enter dishes vadapav\n"
     ]
    },
    {
     "name": "stdout",
     "output_type": "stream",
     "text": [
      "['kheer', 'dosa', 'jalevilassi', 'vadapav']\n"
     ]
    },
    {
     "name": "stdin",
     "output_type": "stream",
     "text": [
      "enter price for each dish:  300\n",
      "enter price for each dish:  100\n",
      "enter price for each dish:  100\n",
      "enter price for each dish:  200\n"
     ]
    },
    {
     "name": "stdout",
     "output_type": "stream",
     "text": [
      "[300, 100, 100, 200]\n",
      "---------------------------------------\n",
      "kheer = 300 /-\n",
      "dosa = 100 /-\n",
      "jalevilassi = 100 /-\n",
      "vadapav = 200 /-\n",
      "---------------------------------------\n",
      "Do You Want to add GST [yes/no]\n",
      "****************************************\n"
     ]
    },
    {
     "name": "stdin",
     "output_type": "stream",
     "text": [
      "enter your choice if u want to add gst or not :: yes/no  yes\n",
      "Again enter total dishes u buyed_:  4\n",
      "Again enter total amount of those each dish_:  300\n",
      "Again enter total amount of those each dish_:  100\n",
      "Again enter total amount of those each dish_:  100\n",
      "Again enter total amount of those each dish_:  200\n"
     ]
    },
    {
     "name": "stdout",
     "output_type": "stream",
     "text": [
      "[300, 100, 100, 200]\n",
      "----------------------------------------\n",
      "Total= 700 /-\n"
     ]
    },
    {
     "name": "stdin",
     "output_type": "stream",
     "text": [
      "Enter GST 18% 18\n"
     ]
    },
    {
     "name": "stdout",
     "output_type": "stream",
     "text": [
      "----------------------------------------\n",
      "final_total= 826 /-\n",
      "----------THANKS-FOR-BUYING-------------\n",
      "----------------------------------------\n"
     ]
    }
   ],
   "source": [
    "#BASIC BILLING SYSTEM \n",
    "\n",
    "sol = int(input(\"enter a fix size of list u want: \"))\n",
    "\n",
    "dishes = []\n",
    "for item in range(sol):\n",
    "    item = input(\"enter dishes\")\n",
    "    dishes.append(item)\n",
    "print(dishes)\n",
    "\n",
    "price_of_dish=[]\n",
    "for each_price in dishes:\n",
    "    each_price = int(input(\"enter price for each dish: \"))\n",
    "    price_of_dish.append(each_price)\n",
    "print(price_of_dish,)\n",
    "\n",
    "print(\"---------------------------------------\")\n",
    "for i in range(len(dishes)):\n",
    "    print(dishes[i],\"=\",price_of_dish[i],\"/-\")\n",
    "print(\"---------------------------------------\")\n",
    "\n",
    "note = \"Do You Want to add GST [yes/no]\"\n",
    "print(note)\n",
    "\n",
    "print(\"****************************************\")\n",
    "\n",
    "userchoice = input(\"enter your choice if u want to add gst or not :: yes/no \")\n",
    "deveshs_choice1=\"no\"\n",
    "deveshs_choice2=\"yes\"\n",
    "\n",
    "if userchoice == deveshs_choice1:\n",
    "    total_dishes=int(input(\"Again enter total dishes u buyed:\"))\n",
    "    \n",
    "    amount=[]\n",
    "    for i in range(total_dishes):\n",
    "        i=int(input(\"Again enter total amount of those each dish: \"))\n",
    "        amount.append(i)\n",
    "    print(amount)\n",
    "    print(\"---------------------------------------\")\n",
    "\n",
    "    total= 0\n",
    "    for i in amount:\n",
    "        total=total+i\n",
    "    print(\"Total=\",total,\"/-\")\n",
    "    print(\"----------THANKS-FOR-BUYING------------\")\n",
    "    print(\"----------------------------------------\")\n",
    "    \n",
    "elif userchoice == deveshs_choice2:\n",
    "    total_dishes=int(input(\"Again enter total dishes u buyed_: \"))\n",
    "    \n",
    "    amount=[]\n",
    "    for i in range(total_dishes):\n",
    "        i=int(input(\"Again enter total amount of those each dish_: \"))\n",
    "        amount.append(i)\n",
    "    print(amount)\n",
    "    print(\"----------------------------------------\")\n",
    "\n",
    "    total= 0\n",
    "    for i in amount:\n",
    "        total=total+i\n",
    "    print(\"Total=\",total,\"/-\")\n",
    "    enter_gst_18perc = int(input(\"Enter GST 18%\"))\n",
    "    \n",
    "    gst_amount = total*(enter_gst_18perc/100)\n",
    "    final_total = round(total + gst_amount)\n",
    "    \n",
    "    print(\"----------------------------------------\")\n",
    "    print(\"final_total=\",final_total,\"/-\")\n",
    "    print(\"----------THANKS-FOR-BUYING-------------\") \n",
    "    print(\"----------------------------------------\")\n",
    "else: \n",
    "    print(\"improper decision u took of yes/no ,be clear with yes/no \")\n"
   ]
  }
 ],
 "metadata": {
  "kernelspec": {
   "display_name": "Python 3 (ipykernel)",
   "language": "python",
   "name": "python3"
  },
  "language_info": {
   "codemirror_mode": {
    "name": "ipython",
    "version": 3
   },
   "file_extension": ".py",
   "mimetype": "text/x-python",
   "name": "python",
   "nbconvert_exporter": "python",
   "pygments_lexer": "ipython3",
   "version": "3.12.7"
  }
 },
 "nbformat": 4,
 "nbformat_minor": 5
}
