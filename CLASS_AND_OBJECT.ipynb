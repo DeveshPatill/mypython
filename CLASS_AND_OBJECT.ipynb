{
 "cells": [
  {
   "cell_type": "code",
   "execution_count": 11,
   "id": "07d1fbfa",
   "metadata": {},
   "outputs": [],
   "source": [
    "class Bank:\n",
    "    def __init__(self):\n",
    "        print(\"welcome to HDFC Bank\")\n",
    "\n",
    "    def bank_info(self):\n",
    "        print(\"Bank Name: XYZ Bank\")\n",
    "\n",
    "    def a_number(self):\n",
    "        print(\"Account Number: 123456789\")\n"
   ]
  },
  {
   "cell_type": "code",
   "execution_count": 12,
   "id": "a051a944",
   "metadata": {},
   "outputs": [
    {
     "name": "stdout",
     "output_type": "stream",
     "text": [
      "welcome to HDFC Bank\n",
      "Bank Name: XYZ Bank\n",
      "Account Number: 123456789\n"
     ]
    }
   ],
   "source": [
    "b = Bank()\n",
    "b.bank_info()\n",
    "b.a_number()"
   ]
  }
 ],
 "metadata": {
  "kernelspec": {
   "display_name": "Python 3",
   "language": "python",
   "name": "python3"
  },
  "language_info": {
   "codemirror_mode": {
    "name": "ipython",
    "version": 3
   },
   "file_extension": ".py",
   "mimetype": "text/x-python",
   "name": "python",
   "nbconvert_exporter": "python",
   "pygments_lexer": "ipython3",
   "version": "3.13.2"
  }
 },
 "nbformat": 4,
 "nbformat_minor": 5
}
