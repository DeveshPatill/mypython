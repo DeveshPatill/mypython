{
 "cells": [
  {
   "cell_type": "code",
   "execution_count": 4,
   "id": "00e72b46-a29c-4dbf-a903-6d259beaef35",
   "metadata": {},
   "outputs": [
    {
     "name": "stdin",
     "output_type": "stream",
     "text": [
      "enter your password:  p4n@in\n"
     ]
    },
    {
     "name": "stdout",
     "output_type": "stream",
     "text": [
      "Right password,U can start with your MCQ Exam:\n",
      "Who invented java programming..??\n",
      "Guido van Rossum\n",
      "James Gosling\n",
      "Dennis Ritchie\n",
      "Bjarne Stroustrup\n"
     ]
    },
    {
     "name": "stdin",
     "output_type": "stream",
     "text": [
      "Guess n Write the Correct Answer :  Guido van Rossum\n"
     ]
    },
    {
     "name": "stdout",
     "output_type": "stream",
     "text": [
      "answer is wrong,Try Next Year \n",
      "Q2] Which component is used to compile, debug and execute the java programs?\n",
      "JRE\n",
      "JIT\n",
      "JDK\n",
      "JVM\n"
     ]
    },
    {
     "name": "stdin",
     "output_type": "stream",
     "text": [
      "Guess n Write The correct answer:  JDK\n"
     ]
    },
    {
     "name": "stdout",
     "output_type": "stream",
     "text": [
      "right answer\n"
     ]
    },
    {
     "name": "stdin",
     "output_type": "stream",
     "text": [
      "Enter Right Password :  p4n@in\n"
     ]
    },
    {
     "name": "stdout",
     "output_type": "stream",
     "text": [
      "Correct Password,u can start with MCQ Exam\n",
      "1] Who invented java programming..??\n",
      "Guido van Rossum\n",
      "James Gosling\n",
      "Dennis Ritchie\n",
      "Bjarne Stroustrup\n"
     ]
    },
    {
     "name": "stdin",
     "output_type": "stream",
     "text": [
      "Guess n Write the Correct Answer :  g\n"
     ]
    },
    {
     "name": "stdout",
     "output_type": "stream",
     "text": [
      "Try Next Year \n",
      "Q2] Which component is used to compile, debug and execute the java programs?\n",
      "JRE\n",
      "JIT\n",
      "JDK\n",
      "JVM\n"
     ]
    },
    {
     "name": "stdin",
     "output_type": "stream",
     "text": [
      "Guess n Write The correct answer:  g\n"
     ]
    },
    {
     "name": "stdout",
     "output_type": "stream",
     "text": [
      "Try Next Year\n"
     ]
    },
    {
     "name": "stdin",
     "output_type": "stream",
     "text": [
      "Enter Right password :  p4n@in\n"
     ]
    },
    {
     "name": "stdout",
     "output_type": "stream",
     "text": [
      "Correct Password,u can start with MCQ Exam\n",
      "1] Who invented java programming..??\n",
      "Guido van Rossum\n",
      "James Gosling\n",
      "Dennis Ritchie\n",
      "Bjarne Stroustrup\n"
     ]
    },
    {
     "name": "stdin",
     "output_type": "stream",
     "text": [
      "Guess n Write the Correct Answer :  Dennis Ritchie\n"
     ]
    },
    {
     "name": "stdout",
     "output_type": "stream",
     "text": [
      "answer is wrong,Try Next Year \n",
      "Q2] Which component is used to compile, debug and execute the java programs?\n",
      "JRE\n",
      "JIT\n",
      "JDK\n",
      "JVM\n"
     ]
    },
    {
     "name": "stdin",
     "output_type": "stream",
     "text": [
      "Guess n Write The correct answer:  JIT\n"
     ]
    },
    {
     "name": "stdout",
     "output_type": "stream",
     "text": [
      "Wrong answer ,Try Next Year\n"
     ]
    },
    {
     "name": "stdin",
     "output_type": "stream",
     "text": [
      "Enter Right password :  d\n"
     ]
    },
    {
     "name": "stdout",
     "output_type": "stream",
     "text": [
      "Wrong Password, Session Ended\n"
     ]
    }
   ],
   "source": [
    "Pass = \"p4n@in\"\n",
    "Enter_password = input(\"enter your password: \")\n",
    "if  Enter_password != Pass and Enter_password == Pass or Enter_password == Pass :\n",
    "    print(\"Right password,U can start with your MCQ Exam:\")\n",
    "    print(\"Who invented java programming..??\")\n",
    "    a=\"Guido van Rossum\"\n",
    "    print(a)\n",
    "    b=\"James Gosling\"\n",
    "    print(b)\n",
    "    c=\"Dennis Ritchie\"\n",
    "    print(c)\n",
    "    d=\"Bjarne Stroustrup\"\n",
    "    print(d)\n",
    "    ans = input(\"Guess n Write the Correct Answer : \")\n",
    "    if ans == b: \n",
    "        print(\"answers is right\")\n",
    "    elif ans == a:\n",
    "        print(\"answer is wrong,Try Next Year \")\n",
    "    elif ans == c:\n",
    "        print(\"answer is wrong,Try Next Year \")\n",
    "    elif ans == d:\n",
    "        print(\"answer is wrong,Try Next Year \")\n",
    "    else:\n",
    "        print(\"Try Next Year \")\n",
    "    question_2 = (\"Q2] Which component is used to compile, debug and execute the java programs?\")\n",
    "    print(question_2)\n",
    "    p=\"JRE\"\n",
    "    print(p)\n",
    "    q=\"JIT\"\n",
    "    print(q)\n",
    "    r=\"JDK\"\n",
    "    print(r)\n",
    "    t=\"JVM\"\n",
    "    print(t)\n",
    "    ans1 = input(\"Guess n Write The correct answer: \")\n",
    "    if ans1 == p:\n",
    "        print(\"Wrong answer,Try Next Year\")\n",
    "    elif ans1 == q:\n",
    "        print(\"Wrong answer,Try Next Year\")\n",
    "    elif ans1 == r:\n",
    "        print(\"right answer\")\n",
    "    elif ans1 == t:\n",
    "        print(\"Wrong answer ,Try Next Year\")\n",
    "    else:\n",
    "        print(\"Try Next Year\")\n",
    "    \n",
    "else:\n",
    "    print(\"Wrong Password,Try 2 more time\")\n",
    "    \n",
    "Enter_password = input(\"Enter Right Password : \")\n",
    "if  Enter_password != Pass and Enter_password == Pass or Enter_password == Pass :\n",
    "    print(\"Correct Password,u can start with MCQ Exam\")\n",
    "    print(\"1] Who invented java programming..??\")\n",
    "    a=\"Guido van Rossum\"\n",
    "    print(a)\n",
    "    b=\"James Gosling\"\n",
    "    print(b)\n",
    "    c=\"Dennis Ritchie\"\n",
    "    print(c)\n",
    "    d=\"Bjarne Stroustrup\"\n",
    "    print(d)\n",
    "    ans = input(\"Guess n Write the Correct Answer : \")\n",
    "    if ans == b: \n",
    "        print(\"answers is right\")\n",
    "    elif ans == a:\n",
    "        print(\"answer is wrong,Try Next Year \")\n",
    "    elif ans == c:\n",
    "        print(\"answer is wrong,Try Next Year \")\n",
    "    elif ans == d:\n",
    "        print(\"answer is wrong,Try Next Year \")\n",
    "    else:\n",
    "        print(\"Try Next Year \")\n",
    "    question_2 = (\"Q2] Which component is used to compile, debug and execute the java programs?\")\n",
    "    print(question_2)\n",
    "    p=\"JRE\"\n",
    "    print(p)\n",
    "    q=\"JIT\"\n",
    "    print(q)\n",
    "    r=\"JDK\"\n",
    "    print(r)\n",
    "    t=\"JVM\"\n",
    "    print(t)\n",
    "    ans1 = input(\"Guess n Write The correct answer: \")\n",
    "    if ans1 == p:\n",
    "        print(\"Wrong answer,Try Next Year\")\n",
    "    elif ans1 == q:\n",
    "        print(\"Wrong answer ,Try Next Year\")\n",
    "    elif ans1 == r:\n",
    "        print(\"answers is right\")\n",
    "    elif ans1 == t:\n",
    "        print(\"Wrong answer ,Try Next Year\")\n",
    "    else:\n",
    "        print(\"Try Next Year\")\n",
    "    \n",
    "else:\n",
    "    print(\"Wrong Password,Try 1 more time..\")\n",
    "        \n",
    "Enter_password = input(\"Enter Right password : \")\n",
    "if  Enter_password != Pass and Enter_password == Pass or Enter_password == Pass :\n",
    "    print(\"Correct Password,u can start with MCQ Exam\")\n",
    "    print(\"1] Who invented java programming..??\")\n",
    "    a=\"Guido van Rossum\"\n",
    "    print(a)\n",
    "    b=\"James Gosling\"\n",
    "    print(b)\n",
    "    c=\"Dennis Ritchie\"\n",
    "    print(c)\n",
    "    d=\"Bjarne Stroustrup\"\n",
    "    print(d)\n",
    "    ans = input(\"Guess n Write the Correct Answer : \")\n",
    "    if ans == b: \n",
    "        print(\"answers is right\")\n",
    "    elif ans == a:\n",
    "        print(\"answer is wrong,Try Next Year \")\n",
    "    elif ans == c:\n",
    "        print(\"answer is wrong,Try Next Year \")\n",
    "    elif ans == d:\n",
    "        print(\"answer is wrong,Try Next Year \")\n",
    "    else:\n",
    "        print(\"Try Next Year \")\n",
    "    question_2 = (\"Q2] Which component is used to compile, debug and execute the java programs?\")\n",
    "    print(question_2)\n",
    "    p=\"JRE\"\n",
    "    print(p)\n",
    "    q=\"JIT\"\n",
    "    print(q)\n",
    "    r=\"JDK\"\n",
    "    print(r)\n",
    "    t=\"JVM\"\n",
    "    print(t)\n",
    "    ans1 = input(\"Guess n Write The correct answer: \")\n",
    "    if ans1 == p:\n",
    "        print(\"Wrong answer,Try Next Year\")\n",
    "    elif ans1 == q:\n",
    "        print(\"Wrong answer ,Try Next Year\")\n",
    "    elif ans1 == r:\n",
    "        print(\"right answer\")\n",
    "    elif ans1 == t:\n",
    "        print(\"Wrong answer ,Try Next Year\")\n",
    "    else:\n",
    "        print(\"Try Next Year\")\n",
    "    \n",
    "else:\n",
    "    print(\"Wrong Password,Try Last time\")\n",
    "\n",
    "Enter_password = input(\"Enter Right password : \")\n",
    "if  Enter_password != Pass and Enter_password == Pass or Enter_password == Pass :\n",
    "    print(\"Correct Password,u can start with MCQ Exam\")\n",
    "    que = \"Q1] who invented java programming?\"\n",
    "    print(que)\n",
    "    a=\"Guido van Rossum\"\n",
    "    print(a)\n",
    "    b=\"James Gosling\"\n",
    "    print(b)\n",
    "    c=\"Dennis Ritchie\"\n",
    "    print(c)\n",
    "    d=\"Bjarne Stroustrup\"\n",
    "    print(d)\n",
    "    ans = input(\"Guess n Write the correct answer : \")\n",
    "    if ans == b : \n",
    "        print(\"answers is right\")\n",
    "    elif ans == a:\n",
    "        print(\"answer is wrong,Try Next Year \")\n",
    "    elif ans == c:\n",
    "        print(\"answer is wrong,Try Next Year \")\n",
    "    elif ans == d:\n",
    "        print(\"answer is wrong,Try Next Year \")\n",
    "    else:\n",
    "        print(\"Try Next Year \")\n",
    "    \n",
    "    question_2 = (\"Q2] Which component is used to compile, debug and execute the java programs?\")\n",
    "    print(question_2)\n",
    "    p=\"JRE\"\n",
    "    print(p)\n",
    "    q=\"JIT\"\n",
    "    print(q)\n",
    "    r=\"JDK\"\n",
    "    print(r)\n",
    "    t=\"JVM\"\n",
    "    print(t)\n",
    "    ans1 = input(\"Guess n Write The correct answer: \")\n",
    "    if ans1 == p:\n",
    "        print(\"Wrong answer,Try Next Year\")\n",
    "    elif ans1 == q:\n",
    "        print(\"Wrong answer,Try Next Year\")\n",
    "    elif ans1 == r:\n",
    "        print(\"right answer\")\n",
    "    elif ans1 == t:\n",
    "        print(\"Wrong answer ,Try Next Year\")\n",
    "    else:\n",
    "        print(\"Try Next Year\")\n",
    "else:\n",
    "    print(\"Wrong Password, Session Ended\")"
   ]
  }
 ],
 "metadata": {
  "kernelspec": {
   "display_name": "Python 3 (ipykernel)",
   "language": "python",
   "name": "python3"
  },
  "language_info": {
   "codemirror_mode": {
    "name": "ipython",
    "version": 3
   },
   "file_extension": ".py",
   "mimetype": "text/x-python",
   "name": "python",
   "nbconvert_exporter": "python",
   "pygments_lexer": "ipython3",
   "version": "3.12.7"
  }
 },
 "nbformat": 4,
 "nbformat_minor": 5
}
