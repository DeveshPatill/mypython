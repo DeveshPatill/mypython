{
 "cells": [
  {
   "cell_type": "code",
   "execution_count": 4,
   "id": "c868e56d-53e2-4517-857d-e4381cf0454a",
   "metadata": {},
   "outputs": [
    {
     "name": "stdin",
     "output_type": "stream",
     "text": [
      "Enter SKU ( Unique Number ):  111\n",
      "Enter Product Name:   laptop\n",
      "Enter Product QT:  3\n",
      "Enter Price:  1000\n"
     ]
    },
    {
     "name": "stdout",
     "output_type": "stream",
     "text": [
      "<class 'list'>\n",
      "product list [{'prod_sku': 111, 'prod_name': 'laptop', 'prod_qty': 3, 'prod_price': 1000}]\n"
     ]
    },
    {
     "name": "stdin",
     "output_type": "stream",
     "text": [
      "Do you Want Add more [Yes/No]:  yes\n",
      "Enter SKU ( Unique Number ):  112\n",
      "Enter Product Name:   laptop\n",
      "Enter Product QT:  3\n",
      "Enter Price:  1100\n"
     ]
    },
    {
     "name": "stdout",
     "output_type": "stream",
     "text": [
      "<class 'list'>\n",
      "product list [{'prod_sku': 112, 'prod_name': 'laptop', 'prod_qty': 3, 'prod_price': 1100}]\n"
     ]
    },
    {
     "name": "stdin",
     "output_type": "stream",
     "text": [
      "you Want then Add more by pressing enter? {press quit to print invoice}:  \n",
      "Enter SKU ( Unique Number ):  111\n",
      "Enter Product Name:   dahio\n",
      "Enter Product QT:  2\n",
      "Enter Price:  1112\n"
     ]
    },
    {
     "name": "stdout",
     "output_type": "stream",
     "text": [
      "<class 'list'>\n",
      "product list [{'prod_sku': 111, 'prod_name': 'dahio', 'prod_qty': 2, 'prod_price': 1112}]\n"
     ]
    },
    {
     "name": "stdin",
     "output_type": "stream",
     "text": [
      "you Want then Add more by pressing enter? {press quit to print invoice}:  \n",
      "Enter SKU ( Unique Number ):  113\n",
      "Enter Product Name:   aaa\n",
      "Enter Product QT:  2\n",
      "Enter Price:  1212\n"
     ]
    },
    {
     "name": "stdout",
     "output_type": "stream",
     "text": [
      "<class 'list'>\n",
      "product list [{'prod_sku': 113, 'prod_name': 'aaa', 'prod_qty': 2, 'prod_price': 1212}]\n"
     ]
    },
    {
     "name": "stdin",
     "output_type": "stream",
     "text": [
      "you Want then Add more by pressing enter? {press quit to print invoice}:  quit\n"
     ]
    },
    {
     "name": "stdout",
     "output_type": "stream",
     "text": [
      "------------------search Item----------------------\n"
     ]
    },
    {
     "name": "stdin",
     "output_type": "stream",
     "text": [
      "enter sku number:  112\n"
     ]
    }
   ],
   "source": [
    "def information_products():\n",
    "    products=[]\n",
    "    SKU_Unique_Number = int(input(\"Enter SKU ( Unique Number ): \"))\n",
    "    Product_Name = input(\"Enter Product Name:  \")\n",
    "    Product_QT = int(input(\"Enter Product QT: \"))\n",
    "    Single_Book_Price = int(input(\"Enter Price: \"))\n",
    "    product={\n",
    "        \"prod_sku\" : SKU_Unique_Number,\n",
    "    \"prod_name\" : Product_Name,\n",
    "    \"prod_qty\"  : Product_QT,\n",
    "    \"prod_price\" : Single_Book_Price,                \n",
    "    }\n",
    "    products.append(product)\n",
    "    print(type(products))\n",
    "    print(\"product list\",products)\n",
    "    return product\n",
    "    \n",
    "information_products()\n",
    "products=[]\n",
    "n=\"no\"\n",
    "y=\"yes\"\n",
    "user=input(\"Do you Want Add more [Yes/No]: \")\n",
    "if user!=\"yes\" and  user!=\"no\":\n",
    "    print(\"invalid selection\")\n",
    "    user=input(\"Do you Want Add more [Yes/No]: \")\n",
    "if user==\"yes\":\n",
    "    while not user == \"quit\":\n",
    "        product =information_products()\n",
    "        products.append(product)\n",
    "        user=input(\"you Want then Add more by pressing enter? {press quit to print invoice}: \")\n",
    "    print(\"------------------search Item----------------------\")\n",
    "    def search_item(products,prod_sku):\n",
    "        for product in products:\n",
    "            if int(product[\"prod_sku\"]) == int(prod_sku):\n",
    "                total_cost = product[\"prod_qty\"]*product[\"prod_price\"]\n",
    "                return product[\"prod_name\"],product[\"prod_qty\"],product[\"prod_price\"],total_cost\n",
    "        return \"this kind of product u didnt mentioned\"        \n",
    "        \n",
    "    prod_sku_search=int(input(\"enter sku number: \"))\n",
    "    result=search_item(products,prod_sku_search)\n",
    "    \n",
    "elif user==\"no\":\n",
    "    print(\"no products added\")\n",
    "else:\n",
    "    print(\"Invalid Selection\") \n",
    "    \n",
    " \n",
    "\n"
   ]
  },
  {
   "cell_type": "code",
   "execution_count": null,
   "id": "bb612964-c7bd-48f3-857b-57bab9c3073c",
   "metadata": {},
   "outputs": [],
   "source": []
  }
 ],
 "metadata": {
  "kernelspec": {
   "display_name": "Python 3 (ipykernel)",
   "language": "python",
   "name": "python3"
  },
  "language_info": {
   "codemirror_mode": {
    "name": "ipython",
    "version": 3
   },
   "file_extension": ".py",
   "mimetype": "text/x-python",
   "name": "python",
   "nbconvert_exporter": "python",
   "pygments_lexer": "ipython3",
   "version": "3.12.7"
  }
 },
 "nbformat": 4,
 "nbformat_minor": 5
}
